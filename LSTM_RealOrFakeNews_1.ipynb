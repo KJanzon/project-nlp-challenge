{
  "cells": [
    {
      "cell_type": "markdown",
      "metadata": {
        "id": "_d5x8YyG-fXK"
      },
      "source": [
        "# Fake News Detection with LSTM Neural Networks\n"
      ]
    },
    {
      "cell_type": "markdown",
      "metadata": {
        "id": "uExhq_gz-fXL"
      },
      "source": [
        "## 1. Import Libraries"
      ]
    },
    {
      "cell_type": "code",
      "execution_count": 1,
      "metadata": {
        "id": "qFJiS-SR-fXL"
      },
      "outputs": [],
      "source": [
        "import pandas as pd\n",
        "import numpy as np\n",
        "import re\n",
        "import os\n",
        "import matplotlib.pyplot as plt\n",
        "import seaborn as sns\n",
        "from sklearn.metrics import accuracy_score, classification_report, confusion_matrix\n",
        "\n",
        "# Deep learning libraries\n",
        "import tensorflow as tf\n",
        "from tensorflow.keras.preprocessing.text import Tokenizer\n",
        "from tensorflow.keras.preprocessing.sequence import pad_sequences\n",
        "from tensorflow.keras.models import Sequential, load_model\n",
        "from tensorflow.keras.layers import Embedding, LSTM, Dense, Dropout, Bidirectional\n",
        "from tensorflow.keras.callbacks import EarlyStopping, ModelCheckpoint\n",
        "\n",
        "# Create output directory for visualizations and models\n",
        "if not os.path.exists('visualizations'):\n",
        "    os.makedirs('visualizations')\n",
        "if not os.path.exists('models'):\n",
        "    os.makedirs('models')"
      ]
    },
    {
      "cell_type": "code",
      "source": [
        "from google.colab import drive\n",
        "drive.mount('/content/drive')"
      ],
      "metadata": {
        "colab": {
          "base_uri": "https://localhost:8080/"
        },
        "id": "0p1J5YJ8-yUl",
        "outputId": "a4abac09-3d61-497e-9e00-b9106dbbca4a"
      },
      "execution_count": 2,
      "outputs": [
        {
          "output_type": "stream",
          "name": "stdout",
          "text": [
            "Mounted at /content/drive\n"
          ]
        }
      ]
    },
    {
      "cell_type": "markdown",
      "metadata": {
        "id": "qLs2j-L2-fXM"
      },
      "source": [
        "## 2. Data Loading and Basic Preprocessing"
      ]
    },
    {
      "cell_type": "code",
      "execution_count": 3,
      "metadata": {
        "colab": {
          "base_uri": "https://localhost:8080/"
        },
        "id": "2dtTN26Q-fXM",
        "outputId": "fdbcbbfb-32d4-471a-ebed-7c4e49818603"
      },
      "outputs": [
        {
          "output_type": "stream",
          "name": "stdout",
          "text": [
            "Training data shape: (34152, 2)\n",
            "Testing data shape: (9984, 2)\n",
            "Label distribution in training data:\n",
            "label\n",
            "0    17572\n",
            "1    16580\n",
            "Name: count, dtype: int64\n",
            "\n",
            "Missing values in training data:\n",
            "label    0\n",
            "title    0\n",
            "dtype: int64\n",
            "\n",
            "Missing values in testing data:\n",
            "placeholder    0\n",
            "title          0\n",
            "dtype: int64\n"
          ]
        }
      ],
      "source": [
        "train_data = pd.read_csv('/content/drive/MyDrive/RealOrFake/Training Data_Testing_data/training_data_lowercase.csv', sep='\\t', header=None)\n",
        "\n",
        "train_data.columns = ['label', 'title']\n",
        "\n",
        "train_data['label'] = train_data['label'].astype(int)\n",
        "\n",
        "test_data = pd.read_csv('/content/drive/MyDrive/RealOrFake/Training Data_Testing_data/testing_data_lowercase_nolabels.csv', sep='\\t', header=None)\n",
        "test_data.columns = ['placeholder', 'title']\n",
        "\n",
        "print(f\"Training data shape: {train_data.shape}\")\n",
        "print(f\"Testing data shape: {test_data.shape}\")\n",
        "print(f\"Label distribution in training data:\\n{train_data['label'].value_counts()}\")\n",
        "\n",
        "print(f\"\\nMissing values in training data:\\n{train_data.isnull().sum()}\")\n",
        "print(f\"\\nMissing values in testing data:\\n{test_data.isnull().sum()}\")"
      ]
    },
    {
      "cell_type": "code",
      "execution_count": 4,
      "metadata": {
        "colab": {
          "base_uri": "https://localhost:8080/",
          "height": 282
        },
        "id": "8kJgCXJo-fXN",
        "outputId": "2789ba5b-46c5-4479-85af-67a6c46b9b49"
      },
      "outputs": [
        {
          "output_type": "stream",
          "name": "stdout",
          "text": [
            "\n",
            "Sample of cleaned titles from training data:\n",
            "\n",
            "Sample of cleaned titles from testing data:\n"
          ]
        },
        {
          "output_type": "execute_result",
          "data": {
            "text/plain": [
              "                                                                                                 title  \\\n",
              "0                                               copycat muslim terrorist arrested with assault weapons   \n",
              "1  wow! chicago protester caught on camera admits violent activity was pre-planned: ‚it‚s not gonna...   \n",
              "2                                                     germany's fdp look to fill schaeuble's big shoes   \n",
              "3                 mi school sends welcome back packet warning kids against wearing u.s. flag to school   \n",
              "4                         u.n. seeks 'massive' aid boost amid rohingya 'emergency within an emergency'   \n",
              "\n",
              "                                                                                         cleaned_title  \n",
              "0                                               copycat muslim terrorist arrested with assault weapons  \n",
              "1  wow chicago protester caught on camera admits violent activity was pre planned it s not gonna be...  \n",
              "2                                                     germany's fdp look to fill schaeuble's big shoes  \n",
              "3                  mi school sends welcome back packet warning kids against wearing u s flag to school  \n",
              "4                          u n seeks 'massive' aid boost amid rohingya 'emergency within an emergency'  "
            ],
            "text/html": [
              "\n",
              "  <div id=\"df-54f683c2-5288-49cf-a82b-0af97d3301cf\" class=\"colab-df-container\">\n",
              "    <div>\n",
              "<style scoped>\n",
              "    .dataframe tbody tr th:only-of-type {\n",
              "        vertical-align: middle;\n",
              "    }\n",
              "\n",
              "    .dataframe tbody tr th {\n",
              "        vertical-align: top;\n",
              "    }\n",
              "\n",
              "    .dataframe thead th {\n",
              "        text-align: right;\n",
              "    }\n",
              "</style>\n",
              "<table border=\"1\" class=\"dataframe\">\n",
              "  <thead>\n",
              "    <tr style=\"text-align: right;\">\n",
              "      <th></th>\n",
              "      <th>title</th>\n",
              "      <th>cleaned_title</th>\n",
              "    </tr>\n",
              "  </thead>\n",
              "  <tbody>\n",
              "    <tr>\n",
              "      <th>0</th>\n",
              "      <td>copycat muslim terrorist arrested with assault weapons</td>\n",
              "      <td>copycat muslim terrorist arrested with assault weapons</td>\n",
              "    </tr>\n",
              "    <tr>\n",
              "      <th>1</th>\n",
              "      <td>wow! chicago protester caught on camera admits violent activity was pre-planned: ‚it‚s not gonna...</td>\n",
              "      <td>wow chicago protester caught on camera admits violent activity was pre planned it s not gonna be...</td>\n",
              "    </tr>\n",
              "    <tr>\n",
              "      <th>2</th>\n",
              "      <td>germany's fdp look to fill schaeuble's big shoes</td>\n",
              "      <td>germany's fdp look to fill schaeuble's big shoes</td>\n",
              "    </tr>\n",
              "    <tr>\n",
              "      <th>3</th>\n",
              "      <td>mi school sends welcome back packet warning kids against wearing u.s. flag to school</td>\n",
              "      <td>mi school sends welcome back packet warning kids against wearing u s flag to school</td>\n",
              "    </tr>\n",
              "    <tr>\n",
              "      <th>4</th>\n",
              "      <td>u.n. seeks 'massive' aid boost amid rohingya 'emergency within an emergency'</td>\n",
              "      <td>u n seeks 'massive' aid boost amid rohingya 'emergency within an emergency'</td>\n",
              "    </tr>\n",
              "  </tbody>\n",
              "</table>\n",
              "</div>\n",
              "    <div class=\"colab-df-buttons\">\n",
              "\n",
              "  <div class=\"colab-df-container\">\n",
              "    <button class=\"colab-df-convert\" onclick=\"convertToInteractive('df-54f683c2-5288-49cf-a82b-0af97d3301cf')\"\n",
              "            title=\"Convert this dataframe to an interactive table.\"\n",
              "            style=\"display:none;\">\n",
              "\n",
              "  <svg xmlns=\"http://www.w3.org/2000/svg\" height=\"24px\" viewBox=\"0 -960 960 960\">\n",
              "    <path d=\"M120-120v-720h720v720H120Zm60-500h600v-160H180v160Zm220 220h160v-160H400v160Zm0 220h160v-160H400v160ZM180-400h160v-160H180v160Zm440 0h160v-160H620v160ZM180-180h160v-160H180v160Zm440 0h160v-160H620v160Z\"/>\n",
              "  </svg>\n",
              "    </button>\n",
              "\n",
              "  <style>\n",
              "    .colab-df-container {\n",
              "      display:flex;\n",
              "      gap: 12px;\n",
              "    }\n",
              "\n",
              "    .colab-df-convert {\n",
              "      background-color: #E8F0FE;\n",
              "      border: none;\n",
              "      border-radius: 50%;\n",
              "      cursor: pointer;\n",
              "      display: none;\n",
              "      fill: #1967D2;\n",
              "      height: 32px;\n",
              "      padding: 0 0 0 0;\n",
              "      width: 32px;\n",
              "    }\n",
              "\n",
              "    .colab-df-convert:hover {\n",
              "      background-color: #E2EBFA;\n",
              "      box-shadow: 0px 1px 2px rgba(60, 64, 67, 0.3), 0px 1px 3px 1px rgba(60, 64, 67, 0.15);\n",
              "      fill: #174EA6;\n",
              "    }\n",
              "\n",
              "    .colab-df-buttons div {\n",
              "      margin-bottom: 4px;\n",
              "    }\n",
              "\n",
              "    [theme=dark] .colab-df-convert {\n",
              "      background-color: #3B4455;\n",
              "      fill: #D2E3FC;\n",
              "    }\n",
              "\n",
              "    [theme=dark] .colab-df-convert:hover {\n",
              "      background-color: #434B5C;\n",
              "      box-shadow: 0px 1px 3px 1px rgba(0, 0, 0, 0.15);\n",
              "      filter: drop-shadow(0px 1px 2px rgba(0, 0, 0, 0.3));\n",
              "      fill: #FFFFFF;\n",
              "    }\n",
              "  </style>\n",
              "\n",
              "    <script>\n",
              "      const buttonEl =\n",
              "        document.querySelector('#df-54f683c2-5288-49cf-a82b-0af97d3301cf button.colab-df-convert');\n",
              "      buttonEl.style.display =\n",
              "        google.colab.kernel.accessAllowed ? 'block' : 'none';\n",
              "\n",
              "      async function convertToInteractive(key) {\n",
              "        const element = document.querySelector('#df-54f683c2-5288-49cf-a82b-0af97d3301cf');\n",
              "        const dataTable =\n",
              "          await google.colab.kernel.invokeFunction('convertToInteractive',\n",
              "                                                    [key], {});\n",
              "        if (!dataTable) return;\n",
              "\n",
              "        const docLinkHtml = 'Like what you see? Visit the ' +\n",
              "          '<a target=\"_blank\" href=https://colab.research.google.com/notebooks/data_table.ipynb>data table notebook</a>'\n",
              "          + ' to learn more about interactive tables.';\n",
              "        element.innerHTML = '';\n",
              "        dataTable['output_type'] = 'display_data';\n",
              "        await google.colab.output.renderOutput(dataTable, element);\n",
              "        const docLink = document.createElement('div');\n",
              "        docLink.innerHTML = docLinkHtml;\n",
              "        element.appendChild(docLink);\n",
              "      }\n",
              "    </script>\n",
              "  </div>\n",
              "\n",
              "\n",
              "<div id=\"df-ff258e62-44df-4215-9776-4324948f5091\">\n",
              "  <button class=\"colab-df-quickchart\" onclick=\"quickchart('df-ff258e62-44df-4215-9776-4324948f5091')\"\n",
              "            title=\"Suggest charts\"\n",
              "            style=\"display:none;\">\n",
              "\n",
              "<svg xmlns=\"http://www.w3.org/2000/svg\" height=\"24px\"viewBox=\"0 0 24 24\"\n",
              "     width=\"24px\">\n",
              "    <g>\n",
              "        <path d=\"M19 3H5c-1.1 0-2 .9-2 2v14c0 1.1.9 2 2 2h14c1.1 0 2-.9 2-2V5c0-1.1-.9-2-2-2zM9 17H7v-7h2v7zm4 0h-2V7h2v10zm4 0h-2v-4h2v4z\"/>\n",
              "    </g>\n",
              "</svg>\n",
              "  </button>\n",
              "\n",
              "<style>\n",
              "  .colab-df-quickchart {\n",
              "      --bg-color: #E8F0FE;\n",
              "      --fill-color: #1967D2;\n",
              "      --hover-bg-color: #E2EBFA;\n",
              "      --hover-fill-color: #174EA6;\n",
              "      --disabled-fill-color: #AAA;\n",
              "      --disabled-bg-color: #DDD;\n",
              "  }\n",
              "\n",
              "  [theme=dark] .colab-df-quickchart {\n",
              "      --bg-color: #3B4455;\n",
              "      --fill-color: #D2E3FC;\n",
              "      --hover-bg-color: #434B5C;\n",
              "      --hover-fill-color: #FFFFFF;\n",
              "      --disabled-bg-color: #3B4455;\n",
              "      --disabled-fill-color: #666;\n",
              "  }\n",
              "\n",
              "  .colab-df-quickchart {\n",
              "    background-color: var(--bg-color);\n",
              "    border: none;\n",
              "    border-radius: 50%;\n",
              "    cursor: pointer;\n",
              "    display: none;\n",
              "    fill: var(--fill-color);\n",
              "    height: 32px;\n",
              "    padding: 0;\n",
              "    width: 32px;\n",
              "  }\n",
              "\n",
              "  .colab-df-quickchart:hover {\n",
              "    background-color: var(--hover-bg-color);\n",
              "    box-shadow: 0 1px 2px rgba(60, 64, 67, 0.3), 0 1px 3px 1px rgba(60, 64, 67, 0.15);\n",
              "    fill: var(--button-hover-fill-color);\n",
              "  }\n",
              "\n",
              "  .colab-df-quickchart-complete:disabled,\n",
              "  .colab-df-quickchart-complete:disabled:hover {\n",
              "    background-color: var(--disabled-bg-color);\n",
              "    fill: var(--disabled-fill-color);\n",
              "    box-shadow: none;\n",
              "  }\n",
              "\n",
              "  .colab-df-spinner {\n",
              "    border: 2px solid var(--fill-color);\n",
              "    border-color: transparent;\n",
              "    border-bottom-color: var(--fill-color);\n",
              "    animation:\n",
              "      spin 1s steps(1) infinite;\n",
              "  }\n",
              "\n",
              "  @keyframes spin {\n",
              "    0% {\n",
              "      border-color: transparent;\n",
              "      border-bottom-color: var(--fill-color);\n",
              "      border-left-color: var(--fill-color);\n",
              "    }\n",
              "    20% {\n",
              "      border-color: transparent;\n",
              "      border-left-color: var(--fill-color);\n",
              "      border-top-color: var(--fill-color);\n",
              "    }\n",
              "    30% {\n",
              "      border-color: transparent;\n",
              "      border-left-color: var(--fill-color);\n",
              "      border-top-color: var(--fill-color);\n",
              "      border-right-color: var(--fill-color);\n",
              "    }\n",
              "    40% {\n",
              "      border-color: transparent;\n",
              "      border-right-color: var(--fill-color);\n",
              "      border-top-color: var(--fill-color);\n",
              "    }\n",
              "    60% {\n",
              "      border-color: transparent;\n",
              "      border-right-color: var(--fill-color);\n",
              "    }\n",
              "    80% {\n",
              "      border-color: transparent;\n",
              "      border-right-color: var(--fill-color);\n",
              "      border-bottom-color: var(--fill-color);\n",
              "    }\n",
              "    90% {\n",
              "      border-color: transparent;\n",
              "      border-bottom-color: var(--fill-color);\n",
              "    }\n",
              "  }\n",
              "</style>\n",
              "\n",
              "  <script>\n",
              "    async function quickchart(key) {\n",
              "      const quickchartButtonEl =\n",
              "        document.querySelector('#' + key + ' button');\n",
              "      quickchartButtonEl.disabled = true;  // To prevent multiple clicks.\n",
              "      quickchartButtonEl.classList.add('colab-df-spinner');\n",
              "      try {\n",
              "        const charts = await google.colab.kernel.invokeFunction(\n",
              "            'suggestCharts', [key], {});\n",
              "      } catch (error) {\n",
              "        console.error('Error during call to suggestCharts:', error);\n",
              "      }\n",
              "      quickchartButtonEl.classList.remove('colab-df-spinner');\n",
              "      quickchartButtonEl.classList.add('colab-df-quickchart-complete');\n",
              "    }\n",
              "    (() => {\n",
              "      let quickchartButtonEl =\n",
              "        document.querySelector('#df-ff258e62-44df-4215-9776-4324948f5091 button');\n",
              "      quickchartButtonEl.style.display =\n",
              "        google.colab.kernel.accessAllowed ? 'block' : 'none';\n",
              "    })();\n",
              "  </script>\n",
              "</div>\n",
              "\n",
              "    </div>\n",
              "  </div>\n"
            ],
            "application/vnd.google.colaboratory.intrinsic+json": {
              "type": "dataframe",
              "summary": "{\n  \"name\": \"test_data[['title', 'cleaned_title']]\",\n  \"rows\": 5,\n  \"fields\": [\n    {\n      \"column\": \"title\",\n      \"properties\": {\n        \"dtype\": \"string\",\n        \"num_unique_values\": 5,\n        \"samples\": [\n          \"wow! chicago protester caught on camera admits violent activity was pre-planned: \\u201ait\\u201as not gonna be peaceful\\u201a\",\n          \"u.n. seeks 'massive' aid boost amid rohingya 'emergency within an emergency'\",\n          \"germany's fdp look to fill schaeuble's big shoes\"\n        ],\n        \"semantic_type\": \"\",\n        \"description\": \"\"\n      }\n    },\n    {\n      \"column\": \"cleaned_title\",\n      \"properties\": {\n        \"dtype\": \"string\",\n        \"num_unique_values\": 5,\n        \"samples\": [\n          \"wow chicago protester caught on camera admits violent activity was pre planned it s not gonna be peaceful\",\n          \"u n seeks 'massive' aid boost amid rohingya 'emergency within an emergency'\",\n          \"germany's fdp look to fill schaeuble's big shoes\"\n        ],\n        \"semantic_type\": \"\",\n        \"description\": \"\"\n      }\n    }\n  ]\n}"
            }
          },
          "metadata": {},
          "execution_count": 4
        }
      ],
      "source": [
        "def clean_text(text):\n",
        "    if isinstance(text, str):\n",
        "        # Remove URLs\n",
        "        text = re.sub(r'https?://\\S+|www\\.\\S+', '', text)\n",
        "        # Remove HTML tags\n",
        "        text = re.sub(r'<.*?>', '', text)\n",
        "        # Remove special characters and punctuation (keep apostrophes for contractions)\n",
        "        text = re.sub(r'[^\\w\\s\\']', ' ', text)\n",
        "        # Remove extra whitespace\n",
        "        text = re.sub(r'\\s+', ' ', text).strip()\n",
        "        return text.lower()  # Ensure all text is lowercase\n",
        "    else:\n",
        "        return ''\n",
        "\n",
        "train_data['cleaned_title'] = train_data['title'].apply(clean_text)\n",
        "test_data['cleaned_title'] = test_data['title'].apply(clean_text)\n",
        "\n",
        "print(\"\\nSample of cleaned titles from training data:\")\n",
        "pd.set_option('display.max_colwidth', 100)\n",
        "train_data[['title', 'cleaned_title', 'label']].head()\n",
        "\n",
        "print(\"\\nSample of cleaned titles from testing data:\")\n",
        "test_data[['title', 'cleaned_title']].head()"
      ]
    },
    {
      "cell_type": "markdown",
      "metadata": {
        "id": "f6uofgkO-fXO"
      },
      "source": [
        "## 4. Prepare Validation Set from Training Data"
      ]
    },
    {
      "cell_type": "code",
      "execution_count": 5,
      "metadata": {
        "colab": {
          "base_uri": "https://localhost:8080/"
        },
        "id": "bGLnI7bb-fXO",
        "outputId": "f241fd03-071f-4486-fd95-b7e669454978"
      },
      "outputs": [
        {
          "output_type": "stream",
          "name": "stdout",
          "text": [
            "Training set size: 27321\n",
            "Validation set size: 6831\n",
            "Testing set size: 9984\n"
          ]
        }
      ],
      "source": [
        "# Split the training data to create a validation set\n",
        "from sklearn.model_selection import train_test_split\n",
        "\n",
        "X_train, X_val, y_train, y_val = train_test_split(\n",
        "    train_data['cleaned_title'],\n",
        "    train_data['label'],\n",
        "    test_size=0.2,\n",
        "    random_state=42,\n",
        "    stratify=train_data['label']\n",
        ")\n",
        "\n",
        "print(f\"Training set size: {len(X_train)}\")\n",
        "print(f\"Validation set size: {len(X_val)}\")\n",
        "print(f\"Testing set size: {len(test_data)}\")"
      ]
    },
    {
      "cell_type": "markdown",
      "metadata": {
        "id": "8ntlGZDJ-fXO"
      },
      "source": [
        "## 5. Text Tokenization and Sequence Preparation"
      ]
    },
    {
      "cell_type": "code",
      "execution_count": 6,
      "metadata": {
        "colab": {
          "base_uri": "https://localhost:8080/"
        },
        "id": "-go-NW1Z-fXO",
        "outputId": "f58e89f5-c981-4903-c622-6bcda07cb7ea"
      },
      "outputs": [
        {
          "output_type": "stream",
          "name": "stdout",
          "text": [
            "Vocabulary size: 19155\n",
            "Training padded sequence shape: (27321, 50)\n",
            "Validation padded sequence shape: (6831, 50)\n",
            "Testing padded sequence shape: (9984, 50)\n"
          ]
        }
      ],
      "source": [
        "max_words = 10000\n",
        "max_sequence_length = 50\n",
        "\n",
        "tokenizer = Tokenizer(num_words=max_words, oov_token=\"<OOV>\")\n",
        "tokenizer.fit_on_texts(X_train)\n",
        "\n",
        "# Convert text to sequences\n",
        "X_train_seq = tokenizer.texts_to_sequences(X_train)\n",
        "X_val_seq = tokenizer.texts_to_sequences(X_val)\n",
        "X_test_seq = tokenizer.texts_to_sequences(test_data['cleaned_title'])\n",
        "\n",
        "# Padding\n",
        "X_train_pad = pad_sequences(X_train_seq, maxlen=max_sequence_length, padding='post', truncating='post')\n",
        "X_val_pad = pad_sequences(X_val_seq, maxlen=max_sequence_length, padding='post', truncating='post')\n",
        "X_test_pad = pad_sequences(X_test_seq, maxlen=max_sequence_length, padding='post', truncating='post')\n",
        "\n",
        "\n",
        "vocab_size = len(tokenizer.word_index) + 1  # Add 1 for the 0 index (padding)\n",
        "print(f\"Vocabulary size: {vocab_size}\")\n",
        "print(f\"Training padded sequence shape: {X_train_pad.shape}\")\n",
        "print(f\"Validation padded sequence shape: {X_val_pad.shape}\")\n",
        "print(f\"Testing padded sequence shape: {X_test_pad.shape}\")\n"
      ]
    },
    {
      "cell_type": "markdown",
      "metadata": {
        "id": "3JFS_HDH-fXP"
      },
      "source": [
        "## 6. Build and Train LSTM Model"
      ]
    },
    {
      "cell_type": "code",
      "execution_count": 7,
      "metadata": {
        "colab": {
          "base_uri": "https://localhost:8080/",
          "height": 401
        },
        "id": "bX7iMGuc-fXP",
        "outputId": "0ee67cfd-01d8-4d09-a303-83e3bc3c5f96"
      },
      "outputs": [
        {
          "output_type": "stream",
          "name": "stderr",
          "text": [
            "/usr/local/lib/python3.11/dist-packages/keras/src/layers/core/embedding.py:93: UserWarning: Do not pass an `input_shape`/`input_dim` argument to a layer. When using Sequential models, prefer using an `Input(shape)` object as the first layer in the model instead.\n",
            "  super().__init__(**kwargs)\n"
          ]
        },
        {
          "output_type": "display_data",
          "data": {
            "text/plain": [
              "\u001b[1mModel: \"sequential\"\u001b[0m\n"
            ],
            "text/html": [
              "<pre style=\"white-space:pre;overflow-x:auto;line-height:normal;font-family:Menlo,'DejaVu Sans Mono',consolas,'Courier New',monospace\"><span style=\"font-weight: bold\">Model: \"sequential\"</span>\n",
              "</pre>\n"
            ]
          },
          "metadata": {}
        },
        {
          "output_type": "display_data",
          "data": {
            "text/plain": [
              "┏━━━━━━━━━━━━━━━━━━━━━━━━━━━━━━━━━━━━━━┳━━━━━━━━━━━━━━━━━━━━━━━━━━━━━┳━━━━━━━━━━━━━━━━━┓\n",
              "┃\u001b[1m \u001b[0m\u001b[1mLayer (type)                        \u001b[0m\u001b[1m \u001b[0m┃\u001b[1m \u001b[0m\u001b[1mOutput Shape               \u001b[0m\u001b[1m \u001b[0m┃\u001b[1m \u001b[0m\u001b[1m        Param #\u001b[0m\u001b[1m \u001b[0m┃\n",
              "┡━━━━━━━━━━━━━━━━━━━━━━━━━━━━━━━━━━━━━━╇━━━━━━━━━━━━━━━━━━━━━━━━━━━━━╇━━━━━━━━━━━━━━━━━┩\n",
              "│ embedding (\u001b[38;5;33mEmbedding\u001b[0m)                │ (\u001b[38;5;45mNone\u001b[0m, \u001b[38;5;34m200\u001b[0m, \u001b[38;5;34m128\u001b[0m)            │       \u001b[38;5;34m1,280,000\u001b[0m │\n",
              "├──────────────────────────────────────┼─────────────────────────────┼─────────────────┤\n",
              "│ bidirectional (\u001b[38;5;33mBidirectional\u001b[0m)        │ (\u001b[38;5;45mNone\u001b[0m, \u001b[38;5;34m200\u001b[0m, \u001b[38;5;34m128\u001b[0m)            │          \u001b[38;5;34m98,816\u001b[0m │\n",
              "├──────────────────────────────────────┼─────────────────────────────┼─────────────────┤\n",
              "│ dropout (\u001b[38;5;33mDropout\u001b[0m)                    │ (\u001b[38;5;45mNone\u001b[0m, \u001b[38;5;34m200\u001b[0m, \u001b[38;5;34m128\u001b[0m)            │               \u001b[38;5;34m0\u001b[0m │\n",
              "├──────────────────────────────────────┼─────────────────────────────┼─────────────────┤\n",
              "│ bidirectional_1 (\u001b[38;5;33mBidirectional\u001b[0m)      │ (\u001b[38;5;45mNone\u001b[0m, \u001b[38;5;34m64\u001b[0m)                  │          \u001b[38;5;34m41,216\u001b[0m │\n",
              "├──────────────────────────────────────┼─────────────────────────────┼─────────────────┤\n",
              "│ dropout_1 (\u001b[38;5;33mDropout\u001b[0m)                  │ (\u001b[38;5;45mNone\u001b[0m, \u001b[38;5;34m64\u001b[0m)                  │               \u001b[38;5;34m0\u001b[0m │\n",
              "├──────────────────────────────────────┼─────────────────────────────┼─────────────────┤\n",
              "│ dense (\u001b[38;5;33mDense\u001b[0m)                        │ (\u001b[38;5;45mNone\u001b[0m, \u001b[38;5;34m16\u001b[0m)                  │           \u001b[38;5;34m1,040\u001b[0m │\n",
              "├──────────────────────────────────────┼─────────────────────────────┼─────────────────┤\n",
              "│ dense_1 (\u001b[38;5;33mDense\u001b[0m)                      │ (\u001b[38;5;45mNone\u001b[0m, \u001b[38;5;34m1\u001b[0m)                   │              \u001b[38;5;34m17\u001b[0m │\n",
              "└──────────────────────────────────────┴─────────────────────────────┴─────────────────┘\n"
            ],
            "text/html": [
              "<pre style=\"white-space:pre;overflow-x:auto;line-height:normal;font-family:Menlo,'DejaVu Sans Mono',consolas,'Courier New',monospace\">┏━━━━━━━━━━━━━━━━━━━━━━━━━━━━━━━━━━━━━━┳━━━━━━━━━━━━━━━━━━━━━━━━━━━━━┳━━━━━━━━━━━━━━━━━┓\n",
              "┃<span style=\"font-weight: bold\"> Layer (type)                         </span>┃<span style=\"font-weight: bold\"> Output Shape                </span>┃<span style=\"font-weight: bold\">         Param # </span>┃\n",
              "┡━━━━━━━━━━━━━━━━━━━━━━━━━━━━━━━━━━━━━━╇━━━━━━━━━━━━━━━━━━━━━━━━━━━━━╇━━━━━━━━━━━━━━━━━┩\n",
              "│ embedding (<span style=\"color: #0087ff; text-decoration-color: #0087ff\">Embedding</span>)                │ (<span style=\"color: #00d7ff; text-decoration-color: #00d7ff\">None</span>, <span style=\"color: #00af00; text-decoration-color: #00af00\">200</span>, <span style=\"color: #00af00; text-decoration-color: #00af00\">128</span>)            │       <span style=\"color: #00af00; text-decoration-color: #00af00\">1,280,000</span> │\n",
              "├──────────────────────────────────────┼─────────────────────────────┼─────────────────┤\n",
              "│ bidirectional (<span style=\"color: #0087ff; text-decoration-color: #0087ff\">Bidirectional</span>)        │ (<span style=\"color: #00d7ff; text-decoration-color: #00d7ff\">None</span>, <span style=\"color: #00af00; text-decoration-color: #00af00\">200</span>, <span style=\"color: #00af00; text-decoration-color: #00af00\">128</span>)            │          <span style=\"color: #00af00; text-decoration-color: #00af00\">98,816</span> │\n",
              "├──────────────────────────────────────┼─────────────────────────────┼─────────────────┤\n",
              "│ dropout (<span style=\"color: #0087ff; text-decoration-color: #0087ff\">Dropout</span>)                    │ (<span style=\"color: #00d7ff; text-decoration-color: #00d7ff\">None</span>, <span style=\"color: #00af00; text-decoration-color: #00af00\">200</span>, <span style=\"color: #00af00; text-decoration-color: #00af00\">128</span>)            │               <span style=\"color: #00af00; text-decoration-color: #00af00\">0</span> │\n",
              "├──────────────────────────────────────┼─────────────────────────────┼─────────────────┤\n",
              "│ bidirectional_1 (<span style=\"color: #0087ff; text-decoration-color: #0087ff\">Bidirectional</span>)      │ (<span style=\"color: #00d7ff; text-decoration-color: #00d7ff\">None</span>, <span style=\"color: #00af00; text-decoration-color: #00af00\">64</span>)                  │          <span style=\"color: #00af00; text-decoration-color: #00af00\">41,216</span> │\n",
              "├──────────────────────────────────────┼─────────────────────────────┼─────────────────┤\n",
              "│ dropout_1 (<span style=\"color: #0087ff; text-decoration-color: #0087ff\">Dropout</span>)                  │ (<span style=\"color: #00d7ff; text-decoration-color: #00d7ff\">None</span>, <span style=\"color: #00af00; text-decoration-color: #00af00\">64</span>)                  │               <span style=\"color: #00af00; text-decoration-color: #00af00\">0</span> │\n",
              "├──────────────────────────────────────┼─────────────────────────────┼─────────────────┤\n",
              "│ dense (<span style=\"color: #0087ff; text-decoration-color: #0087ff\">Dense</span>)                        │ (<span style=\"color: #00d7ff; text-decoration-color: #00d7ff\">None</span>, <span style=\"color: #00af00; text-decoration-color: #00af00\">16</span>)                  │           <span style=\"color: #00af00; text-decoration-color: #00af00\">1,040</span> │\n",
              "├──────────────────────────────────────┼─────────────────────────────┼─────────────────┤\n",
              "│ dense_1 (<span style=\"color: #0087ff; text-decoration-color: #0087ff\">Dense</span>)                      │ (<span style=\"color: #00d7ff; text-decoration-color: #00d7ff\">None</span>, <span style=\"color: #00af00; text-decoration-color: #00af00\">1</span>)                   │              <span style=\"color: #00af00; text-decoration-color: #00af00\">17</span> │\n",
              "└──────────────────────────────────────┴─────────────────────────────┴─────────────────┘\n",
              "</pre>\n"
            ]
          },
          "metadata": {}
        },
        {
          "output_type": "display_data",
          "data": {
            "text/plain": [
              "\u001b[1m Total params: \u001b[0m\u001b[38;5;34m1,421,089\u001b[0m (5.42 MB)\n"
            ],
            "text/html": [
              "<pre style=\"white-space:pre;overflow-x:auto;line-height:normal;font-family:Menlo,'DejaVu Sans Mono',consolas,'Courier New',monospace\"><span style=\"font-weight: bold\"> Total params: </span><span style=\"color: #00af00; text-decoration-color: #00af00\">1,421,089</span> (5.42 MB)\n",
              "</pre>\n"
            ]
          },
          "metadata": {}
        },
        {
          "output_type": "display_data",
          "data": {
            "text/plain": [
              "\u001b[1m Trainable params: \u001b[0m\u001b[38;5;34m1,421,089\u001b[0m (5.42 MB)\n"
            ],
            "text/html": [
              "<pre style=\"white-space:pre;overflow-x:auto;line-height:normal;font-family:Menlo,'DejaVu Sans Mono',consolas,'Courier New',monospace\"><span style=\"font-weight: bold\"> Trainable params: </span><span style=\"color: #00af00; text-decoration-color: #00af00\">1,421,089</span> (5.42 MB)\n",
              "</pre>\n"
            ]
          },
          "metadata": {}
        },
        {
          "output_type": "display_data",
          "data": {
            "text/plain": [
              "\u001b[1m Non-trainable params: \u001b[0m\u001b[38;5;34m0\u001b[0m (0.00 B)\n"
            ],
            "text/html": [
              "<pre style=\"white-space:pre;overflow-x:auto;line-height:normal;font-family:Menlo,'DejaVu Sans Mono',consolas,'Courier New',monospace\"><span style=\"font-weight: bold\"> Non-trainable params: </span><span style=\"color: #00af00; text-decoration-color: #00af00\">0</span> (0.00 B)\n",
              "</pre>\n"
            ]
          },
          "metadata": {}
        }
      ],
      "source": [
        "import numpy as np\n",
        "import tensorflow as tf\n",
        "from tensorflow.keras.models import Sequential\n",
        "from tensorflow.keras.layers import Embedding, LSTM, Dense, Dropout, Bidirectional\n",
        "\n",
        "# for reproducibility\n",
        "np.random.seed(42)\n",
        "tf.random.set_seed(42)\n",
        "\n",
        "\n",
        "embedding_dim = 128\n",
        "vocab_size = 10000  # Example vocab size\n",
        "max_sequence_length = 200  # Example sequence length\n",
        "\n",
        "model = Sequential([\n",
        "\n",
        "    Embedding(input_dim=vocab_size, output_dim=embedding_dim, input_shape=(max_sequence_length,)),\n",
        "\n",
        "\n",
        "    Bidirectional(LSTM(64, return_sequences=True)),\n",
        "    Dropout(0.3),\n",
        "\n",
        "    Bidirectional(LSTM(32)),\n",
        "    Dropout(0.3),\n",
        "\n",
        "\n",
        "    Dense(16, activation='relu'),\n",
        "    Dense(1, activation='sigmoid')  # Binary classification output\n",
        "])\n",
        "\n",
        "\n",
        "model.compile(\n",
        "    loss='binary_crossentropy',\n",
        "    optimizer='adam',\n",
        "    metrics=['accuracy']\n",
        ")\n",
        "\n",
        "model.summary()\n"
      ]
    },
    {
      "cell_type": "markdown",
      "source": [
        "# model.fit"
      ],
      "metadata": {
        "id": "3dneOymdhAc0"
      }
    },
    {
      "cell_type": "code",
      "execution_count": 8,
      "metadata": {
        "colab": {
          "base_uri": "https://localhost:8080/"
        },
        "id": "lGb3ev79-fXP",
        "outputId": "1e786936-742b-47f2-a810-56cc19423361"
      },
      "outputs": [
        {
          "output_type": "stream",
          "name": "stdout",
          "text": [
            "Epoch 1/20\n",
            "\u001b[1m427/427\u001b[0m \u001b[32m━━━━━━━━━━━━━━━━━━━━\u001b[0m\u001b[37m\u001b[0m \u001b[1m13s\u001b[0m 16ms/step - accuracy: 0.8558 - loss: 0.2982 - val_accuracy: 0.9715 - val_loss: 0.0773\n",
            "Epoch 2/20\n",
            "\u001b[1m427/427\u001b[0m \u001b[32m━━━━━━━━━━━━━━━━━━━━\u001b[0m\u001b[37m\u001b[0m \u001b[1m6s\u001b[0m 14ms/step - accuracy: 0.9784 - loss: 0.0613 - val_accuracy: 0.9691 - val_loss: 0.0831\n",
            "Epoch 3/20\n",
            "\u001b[1m427/427\u001b[0m \u001b[32m━━━━━━━━━━━━━━━━━━━━\u001b[0m\u001b[37m\u001b[0m \u001b[1m6s\u001b[0m 14ms/step - accuracy: 0.9914 - loss: 0.0273 - val_accuracy: 0.9682 - val_loss: 0.1115\n",
            "Epoch 4/20\n",
            "\u001b[1m427/427\u001b[0m \u001b[32m━━━━━━━━━━━━━━━━━━━━\u001b[0m\u001b[37m\u001b[0m \u001b[1m6s\u001b[0m 14ms/step - accuracy: 0.9943 - loss: 0.0171 - val_accuracy: 0.9606 - val_loss: 0.1556\n",
            "Epoch 5/20\n",
            "\u001b[1m427/427\u001b[0m \u001b[32m━━━━━━━━━━━━━━━━━━━━\u001b[0m\u001b[37m\u001b[0m \u001b[1m6s\u001b[0m 14ms/step - accuracy: 0.9955 - loss: 0.0137 - val_accuracy: 0.9643 - val_loss: 0.1484\n",
            "Epoch 6/20\n",
            "\u001b[1m427/427\u001b[0m \u001b[32m━━━━━━━━━━━━━━━━━━━━\u001b[0m\u001b[37m\u001b[0m \u001b[1m6s\u001b[0m 14ms/step - accuracy: 0.9967 - loss: 0.0109 - val_accuracy: 0.9643 - val_loss: 0.1789\n",
            "Epoch 7/20\n",
            "\u001b[1m427/427\u001b[0m \u001b[32m━━━━━━━━━━━━━━━━━━━━\u001b[0m\u001b[37m\u001b[0m \u001b[1m6s\u001b[0m 15ms/step - accuracy: 0.9979 - loss: 0.0069 - val_accuracy: 0.9659 - val_loss: 0.1898\n",
            "Epoch 8/20\n",
            "\u001b[1m427/427\u001b[0m \u001b[32m━━━━━━━━━━━━━━━━━━━━\u001b[0m\u001b[37m\u001b[0m \u001b[1m6s\u001b[0m 14ms/step - accuracy: 0.9990 - loss: 0.0040 - val_accuracy: 0.9637 - val_loss: 0.2058\n",
            "Epoch 9/20\n",
            "\u001b[1m427/427\u001b[0m \u001b[32m━━━━━━━━━━━━━━━━━━━━\u001b[0m\u001b[37m\u001b[0m \u001b[1m6s\u001b[0m 14ms/step - accuracy: 0.9986 - loss: 0.0041 - val_accuracy: 0.9618 - val_loss: 0.2020\n",
            "Epoch 10/20\n",
            "\u001b[1m427/427\u001b[0m \u001b[32m━━━━━━━━━━━━━━━━━━━━\u001b[0m\u001b[37m\u001b[0m \u001b[1m6s\u001b[0m 14ms/step - accuracy: 0.9973 - loss: 0.0098 - val_accuracy: 0.9643 - val_loss: 0.1894\n",
            "Epoch 11/20\n",
            "\u001b[1m427/427\u001b[0m \u001b[32m━━━━━━━━━━━━━━━━━━━━\u001b[0m\u001b[37m\u001b[0m \u001b[1m6s\u001b[0m 14ms/step - accuracy: 0.9984 - loss: 0.0040 - val_accuracy: 0.9650 - val_loss: 0.2189\n"
          ]
        }
      ],
      "source": [
        "\n",
        "early_stopping = EarlyStopping(\n",
        "    monitor='val_accuracy',\n",
        "    patience=10,\n",
        "    restore_best_weights=True\n",
        ")\n",
        "\n",
        "batch_size = 64\n",
        "epochs = 20\n",
        "\n",
        "history = model.fit(\n",
        "    X_train_pad, y_train,\n",
        "    validation_data=(X_val_pad, y_val),\n",
        "    epochs=epochs,\n",
        "    batch_size=batch_size,\n",
        "    callbacks=[early_stopping],\n",
        "    verbose=1\n",
        ")"
      ]
    },
    {
      "cell_type": "code",
      "source": [],
      "metadata": {
        "id": "5rQLkpR7hNgM"
      },
      "execution_count": null,
      "outputs": []
    },
    {
      "cell_type": "markdown",
      "source": [
        "# Save Model"
      ],
      "metadata": {
        "id": "KOabbzr6hMlk"
      }
    },
    {
      "cell_type": "code",
      "source": [
        "# Save the trained model in the new format\n",
        "model.save(\"lstm_fake_news_model.keras\")\n",
        "print(\"Model saved as 'lstm_fake_news_model.keras'\")\n"
      ],
      "metadata": {
        "colab": {
          "base_uri": "https://localhost:8080/"
        },
        "id": "dD7FeHOmO-iJ",
        "outputId": "610bb8ac-87af-470a-a747-32096174319e"
      },
      "execution_count": 9,
      "outputs": [
        {
          "output_type": "stream",
          "name": "stdout",
          "text": [
            "Model saved as 'lstm_fake_news_model.keras'\n"
          ]
        }
      ]
    },
    {
      "cell_type": "code",
      "source": [
        "from tensorflow.keras.models import load_model\n",
        "\n",
        "# Load the model\n",
        "best_model = load_model(\"lstm_fake_news_model.keras\")\n",
        "print(\"Model loaded successfully!\")\n"
      ],
      "metadata": {
        "colab": {
          "base_uri": "https://localhost:8080/"
        },
        "id": "9981Int6O_cE",
        "outputId": "338d3da0-b5db-42cc-9075-a93f18b5b0e2"
      },
      "execution_count": 10,
      "outputs": [
        {
          "output_type": "stream",
          "name": "stdout",
          "text": [
            "Model loaded successfully!\n"
          ]
        }
      ]
    },
    {
      "cell_type": "markdown",
      "source": [
        "# Predictions"
      ],
      "metadata": {
        "id": "6XdSMB_aL7Ox"
      }
    },
    {
      "cell_type": "code",
      "source": [
        "from tensorflow.keras.preprocessing.text import Tokenizer\n",
        "from tensorflow.keras.preprocessing.sequence import pad_sequences\n",
        "\n",
        "# Define tokenizer with the same parameters as before\n",
        "max_words = 10000  # Must match original training config\n",
        "max_sequence_length = 50  # Must match original training config\n",
        "\n",
        "tokenizer = Tokenizer(num_words=max_words, oov_token=\"<OOV>\")\n",
        "tokenizer.fit_on_texts(X_train)  # Refit using training data\n"
      ],
      "metadata": {
        "id": "u2FJwOvtQJq2"
      },
      "execution_count": 11,
      "outputs": []
    },
    {
      "cell_type": "code",
      "source": [
        "# Convert test text to sequences\n",
        "X_test_seq = tokenizer.texts_to_sequences(test_data['title'])\n",
        "\n",
        "# Pad sequences (must match training padding settings)\n",
        "X_test_pad = pad_sequences(X_test_seq, maxlen=max_sequence_length, padding='post', truncating='post')\n",
        "\n",
        "print(f\"Test data padded shape: {X_test_pad.shape}\")\n"
      ],
      "metadata": {
        "colab": {
          "base_uri": "https://localhost:8080/"
        },
        "id": "lMjhrEXhQK19",
        "outputId": "bd991eb2-9c0c-4226-c00e-798bdd9e49fe"
      },
      "execution_count": 12,
      "outputs": [
        {
          "output_type": "stream",
          "name": "stdout",
          "text": [
            "Test data padded shape: (9984, 50)\n"
          ]
        }
      ]
    },
    {
      "cell_type": "code",
      "source": [
        "from tensorflow.keras.models import load_model\n",
        "\n",
        "# Load the saved LSTM model\n",
        "best_model = load_model(\"lstm_fake_news_model.keras\")\n",
        "\n",
        "# Generate predictions\n",
        "print(\"\\nGenerating predictions on test data...\")\n",
        "test_pred_prob = best_model.predict(X_test_pad)\n",
        "\n",
        "# Convert probabilities to binary labels (0 = Fake, 1 = Real)\n",
        "test_predictions = (test_pred_prob > 0.5).astype(int).flatten()\n"
      ],
      "metadata": {
        "colab": {
          "base_uri": "https://localhost:8080/"
        },
        "id": "BUsuKPM9QNks",
        "outputId": "93ca96fc-6c15-45ee-b813-6db3c0b00aa2"
      },
      "execution_count": 13,
      "outputs": [
        {
          "output_type": "stream",
          "name": "stdout",
          "text": [
            "\n",
            "Generating predictions on test data...\n",
            "\u001b[1m312/312\u001b[0m \u001b[32m━━━━━━━━━━━━━━━━━━━━\u001b[0m\u001b[37m\u001b[0m \u001b[1m2s\u001b[0m 4ms/step\n"
          ]
        }
      ]
    },
    {
      "cell_type": "code",
      "source": [
        "import pandas as pd\n",
        "\n",
        "# Create DataFrame for predictions\n",
        "predictions_df = pd.DataFrame({\n",
        "    'id': range(len(test_data)),  # Assign an ID\n",
        "    'title': test_data['title'],  # Include original text\n",
        "    'predicted_label': test_predictions  # 1 = Real, 0 = Fake\n",
        "})\n",
        "\n",
        "# Save predictions to CSV\n",
        "predictions_df.to_csv('lstm_predictions.csv', index=False)\n",
        "print(\"\\nPredictions saved to 'lstm_predictions.csv'\")\n"
      ],
      "metadata": {
        "colab": {
          "base_uri": "https://localhost:8080/"
        },
        "id": "Hq0SMLsQQWNk",
        "outputId": "a5753a48-5795-4124-97e8-7b6d8bbcc81b"
      },
      "execution_count": 14,
      "outputs": [
        {
          "output_type": "stream",
          "name": "stdout",
          "text": [
            "\n",
            "Predictions saved to 'lstm_predictions.csv'\n"
          ]
        }
      ]
    },
    {
      "cell_type": "code",
      "source": [
        "import pandas as pd\n",
        "\n",
        "# Load predictions CSV\n",
        "predictions_df = pd.read_csv(\"lstm_predictions.csv\")\n",
        "\n",
        "# Check a few rows\n",
        "print(predictions_df.head())\n"
      ],
      "metadata": {
        "colab": {
          "base_uri": "https://localhost:8080/"
        },
        "id": "4Kr_RL5qQ2XR",
        "outputId": "eb177ba9-7399-47ee-fced-a26de9ea5639"
      },
      "execution_count": 15,
      "outputs": [
        {
          "output_type": "stream",
          "name": "stdout",
          "text": [
            "   id  \\\n",
            "0   0   \n",
            "1   1   \n",
            "2   2   \n",
            "3   3   \n",
            "4   4   \n",
            "\n",
            "                                                                                                 title  \\\n",
            "0                                               copycat muslim terrorist arrested with assault weapons   \n",
            "1  wow! chicago protester caught on camera admits violent activity was pre-planned: ‚it‚s not gonna...   \n",
            "2                                                     germany's fdp look to fill schaeuble's big shoes   \n",
            "3                 mi school sends welcome back packet warning kids against wearing u.s. flag to school   \n",
            "4                         u.n. seeks 'massive' aid boost amid rohingya 'emergency within an emergency'   \n",
            "\n",
            "   predicted_label  \n",
            "0                0  \n",
            "1                0  \n",
            "2                1  \n",
            "3                0  \n",
            "4                1  \n"
          ]
        }
      ]
    },
    {
      "cell_type": "code",
      "source": [
        "# Count occurrences of each label\n",
        "print(predictions_df['predicted_label'].value_counts())\n",
        "\n",
        "# Plot distribution\n",
        "import matplotlib.pyplot as plt\n",
        "\n",
        "predictions_df['predicted_label'].value_counts().plot(kind='bar', color=['red', 'green'])\n",
        "plt.xticks(ticks=[0,1], labels=['Fake News', 'Real News'], rotation=0)\n",
        "plt.ylabel('Number of Articles')\n",
        "plt.title('Fake vs. Real News Predictions')\n",
        "plt.show()"
      ],
      "metadata": {
        "colab": {
          "base_uri": "https://localhost:8080/",
          "height": 547
        },
        "id": "2wUIqDZWQ39c",
        "outputId": "2cb10e2e-451e-488b-c971-16ff3c0271fb"
      },
      "execution_count": 16,
      "outputs": [
        {
          "output_type": "stream",
          "name": "stdout",
          "text": [
            "predicted_label\n",
            "1    5283\n",
            "0    4701\n",
            "Name: count, dtype: int64\n"
          ]
        },
        {
          "output_type": "display_data",
          "data": {
            "text/plain": [
              "<Figure size 640x480 with 1 Axes>"
            ],
            "image/png": "[encoded data removed]"
          },
          "metadata": {}
        }
      ]
    },
    {
      "cell_type": "code",
      "source": [
        "# Check examples predicted as Fake News\n",
        "fake_news_samples = predictions_df[predictions_df['predicted_label'] == 0]\n",
        "print(fake_news_samples.head(10))  # Show first 10 fake news predictions\n",
        "\n",
        "# Check examples predicted as Real News\n",
        "real_news_samples = predictions_df[predictions_df['predicted_label'] == 1]\n",
        "print(real_news_samples.head(10))  # Show first 10 real news predictions\n"
      ],
      "metadata": {
        "colab": {
          "base_uri": "https://localhost:8080/"
        },
        "id": "gqvvCTAFQ9oZ",
        "outputId": "70b276bd-b384-4384-bf93-83c198238a69"
      },
      "execution_count": 17,
      "outputs": [
        {
          "output_type": "stream",
          "name": "stdout",
          "text": [
            "    id  \\\n",
            "0    0   \n",
            "1    1   \n",
            "3    3   \n",
            "5    5   \n",
            "7    7   \n",
            "12  12   \n",
            "13  13   \n",
            "15  15   \n",
            "16  16   \n",
            "17  17   \n",
            "\n",
            "                                                                                                  title  \\\n",
            "0                                                copycat muslim terrorist arrested with assault weapons   \n",
            "1   wow! chicago protester caught on camera admits violent activity was pre-planned: ‚it‚s not gonna...   \n",
            "3                  mi school sends welcome back packet warning kids against wearing u.s. flag to school   \n",
            "5                  did oprah just leave ‚nasty‚ hillary wishing she wouldn‚t have endorsed her? [video]   \n",
            "7                      flashback: chilling ‚60 minutes‚ interview with george soros nearly 20 years ago   \n",
            "12                                   finger in every pie: how cia produces our ‚news‚ and entertainment   \n",
            "13  how malia obama‚s pot smoking friend is connected to her father‚and why this thug with brutal cr...   \n",
            "15  media ignores post on facebook from man who threatened to blow up ca mosque: ‚hillary would make...   \n",
            "16  left-wing author blasts democrats for ‚scandal-mongering‚: ‚rachel maddow‚s dots may never conne...   \n",
            "17        revealed: how democratic party pays agit-prop ‚protesters‚ to incite violence at trump events   \n",
            "\n",
            "    predicted_label  \n",
            "0                 0  \n",
            "1                 0  \n",
            "3                 0  \n",
            "5                 0  \n",
            "7                 0  \n",
            "12                0  \n",
            "13                0  \n",
            "15                0  \n",
            "16                0  \n",
            "17                0  \n",
            "    id  \\\n",
            "2    2   \n",
            "4    4   \n",
            "6    6   \n",
            "8    8   \n",
            "9    9   \n",
            "10  10   \n",
            "11  11   \n",
            "14  14   \n",
            "18  18   \n",
            "20  20   \n",
            "\n",
            "                                                                           title  \\\n",
            "2                               germany's fdp look to fill schaeuble's big shoes   \n",
            "4   u.n. seeks 'massive' aid boost amid rohingya 'emergency within an emergency'   \n",
            "6      france's macron says his job not 'cool' cites talks with turkey's erdogan   \n",
            "8                 spanish foreign ministry says to expel north korean ambassador   \n",
            "9                  trump says cuba 'did some bad things' aimed at u.s. diplomats   \n",
            "10                         merkel names refugee expert as foreign policy adviser   \n",
            "11                brazil house speaker says temer charges must be taken together   \n",
            "14                        no-one can wreck our democracy schaueble tells germans   \n",
            "18                    macron calls for french food chain changes to help farmers   \n",
            "20                  dutch government rolls out carpet for business with tax cuts   \n",
            "\n",
            "    predicted_label  \n",
            "2                 1  \n",
            "4                 1  \n",
            "6                 1  \n",
            "8                 1  \n",
            "9                 1  \n",
            "10                1  \n",
            "11                1  \n",
            "14                1  \n",
            "18                1  \n",
            "20                1  \n"
          ]
        }
      ]
    },
    {
      "cell_type": "code",
      "source": [],
      "metadata": {
        "id": "-4sUXIcndaNM"
      },
      "execution_count": null,
      "outputs": []
    }
  ],
  "metadata": {
    "kernelspec": {
      "display_name": "Python 3",
      "name": "python3"
    },
    "language_info": {
      "codemirror_mode": {
        "name": "ipython",
        "version": 3
      },
      "file_extension": ".py",
      "mimetype": "text/x-python",
      "name": "python",
      "nbconvert_exporter": "python",
      "pygments_lexer": "ipython3",
      "version": "3.8.10"
    },
    "colab": {
      "provenance": [],
      "machine_shape": "hm",
      "gpuType": "T4"
    },
    "accelerator": "GPU"
  },
  "nbformat": 4,
  "nbformat_minor": 0
}